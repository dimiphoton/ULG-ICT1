{
 "cells": [
  {
   "cell_type": "code",
   "execution_count": 64,
   "metadata": {},
   "outputs": [
    {
     "name": "stdout",
     "output_type": "stream",
     "text": [
      "\u001b[32m\u001b[1m  Updating\u001b[22m\u001b[39m registry at `C:\\Users\\DimiP\\.juliapro\\JuliaPro_v1.2.0-2\\registries\\JuliaPro`\n"
     ]
    },
    {
     "name": "stderr",
     "output_type": "stream",
     "text": [
      "┌ Warning: ErrorException(\"Please retrieve a token from \\\"https://pkg.juliacomputing.com/\\\" and store it at \\\"C:\\\\Users\\\\DimiP\\\\.juliapro\\\\token.toml\\\"\")\n",
      "└ @ Pkg.Operations C:\\Users\\julia\\AppData\\Local\\Julia-1.2.0\\share\\julia\\stdlib\\v1.2\\Pkg\\src\\Operations.jl:485\n"
     ]
    },
    {
     "name": "stdout",
     "output_type": "stream",
     "text": [
      "\u001b[32m\u001b[1m  Updating\u001b[22m\u001b[39m git-repo `https://pkg.juliacomputing.com//registry/JuliaPro`\n"
     ]
    },
    {
     "ename": "ErrorException",
     "evalue": "Please retrieve a token from \"https://pkg.juliacomputing.com/\" and store it at \"C:\\Users\\DimiP\\.juliapro\\token.toml\"",
     "output_type": "error",
     "traceback": [
      "Please retrieve a token from \"https://pkg.juliacomputing.com/\" and store it at \"C:\\Users\\DimiP\\.juliapro\\token.toml\"",
      "",
      "Stacktrace:",
      " [1] error(::String) at .\\error.jl:33",
      " [2] retrieve_token() at C:\\Users\\julia\\AppData\\Local\\Julia-1.2.0\\share\\julia\\stdlib\\v1.2\\CredentialsHandler\\src\\CredentialsHandler.jl:53",
      " [3] userpass() at C:\\Users\\julia\\AppData\\Local\\Julia-1.2.0\\share\\julia\\stdlib\\v1.2\\CredentialsHandler\\src\\CredentialsHandler.jl:37",
      " [4] #fetch#4(::Nothing, ::Nothing, ::Base.Iterators.Pairs{Symbol,Array{String,1},Tuple{Symbol},NamedTuple{(:refspecs,),Tuple{Array{String,1}}}}, ::typeof(Pkg.GitTools.fetch), ::LibGit2.GitRepo, ::Nothing) at C:\\Users\\julia\\AppData\\Local\\Julia-1.2.0\\share\\julia\\stdlib\\v1.2\\Pkg\\src\\GitTools.jl:136",
      " [5] update_registries(::Pkg.Types.Context, ::Array{Pkg.Types.RegistrySpec,1}) at .\\none:0",
      " [6] update_registries at C:\\Users\\julia\\AppData\\Local\\Julia-1.2.0\\share\\julia\\stdlib\\v1.2\\Pkg\\src\\Types.jl:1219 [inlined]",
      " [7] #handle_repos_add!#61(::Bool, ::Nothing, ::typeof(Pkg.Types.handle_repos_add!), ::Pkg.Types.Context, ::Array{Pkg.Types.PackageSpec,1}) at C:\\Users\\julia\\AppData\\Local\\Julia-1.2.0\\share\\julia\\stdlib\\v1.2\\Pkg\\src\\Types.jl:719",
      " [8] #handle_repos_add! at .\\none:0 [inlined]",
      " [9] #add_or_develop#17(::Symbol, ::Bool, ::Base.Iterators.Pairs{Union{},Union{},Tuple{},NamedTuple{(),Tuple{}}}, ::typeof(Pkg.API.add_or_develop), ::Pkg.Types.Context, ::Array{Pkg.Types.PackageSpec,1}) at C:\\Users\\julia\\AppData\\Local\\Julia-1.2.0\\share\\julia\\stdlib\\v1.2\\Pkg\\src\\API.jl:47",
      " [10] #add_or_develop at .\\none:0 [inlined]",
      " [11] #add_or_develop#16 at C:\\Users\\julia\\AppData\\Local\\Julia-1.2.0\\share\\julia\\stdlib\\v1.2\\Pkg\\src\\API.jl:36 [inlined]",
      " [12] #add_or_develop at .\\none:0 [inlined]",
      " [13] #add_or_develop#13 at C:\\Users\\julia\\AppData\\Local\\Julia-1.2.0\\share\\julia\\stdlib\\v1.2\\Pkg\\src\\API.jl:34 [inlined]",
      " [14] #add_or_develop at .\\none:0 [inlined]",
      " [15] #add_or_develop#12(::Base.Iterators.Pairs{Symbol,Symbol,Tuple{Symbol},NamedTuple{(:mode,),Tuple{Symbol}}}, ::typeof(Pkg.API.add_or_develop), ::String) at C:\\Users\\julia\\AppData\\Local\\Julia-1.2.0\\share\\julia\\stdlib\\v1.2\\Pkg\\src\\API.jl:33",
      " [16] add(::String) at .\\none:0",
      " [17] top-level scope at In[64]:2"
     ]
    }
   ],
   "source": [
    "using Pkg\n",
    "Pkg.add(\"IterTools\")"
   ]
  },
  {
   "cell_type": "code",
   "execution_count": 1,
   "metadata": {},
   "outputs": [
    {
     "data": {
      "text/plain": [
       "randomdict (generic function with 1 method)"
      ]
     },
     "execution_count": 1,
     "metadata": {},
     "output_type": "execute_result"
    }
   ],
   "source": [
    "function randomdict(str,length)\n",
    "\n",
    "    r=rand(length)\n",
    "    r=r/sum(r)\n",
    "    \n",
    "    dict = Dict(string(str,i) => r[i] for i = 1:size(r)[1])\n",
    "    \n",
    "    return dict\n",
    "    \n",
    "\n",
    "end\n",
    "        \n",
    "    "
   ]
  },
  {
   "cell_type": "code",
   "execution_count": 2,
   "metadata": {},
   "outputs": [
    {
     "data": {
      "text/plain": [
       "Dict{String,Float64} with 10 entries:\n",
       "  \"X3\"  => 0.122596\n",
       "  \"X7\"  => 0.145255\n",
       "  \"X4\"  => 0.143003\n",
       "  \"X10\" => 0.11625\n",
       "  \"X5\"  => 0.132353\n",
       "  \"X8\"  => 0.029538\n",
       "  \"X9\"  => 0.0554942\n",
       "  \"X2\"  => 0.139976\n",
       "  \"X1\"  => 0.0218845\n",
       "  \"X6\"  => 0.09365"
      ]
     },
     "execution_count": 2,
     "metadata": {},
     "output_type": "execute_result"
    }
   ],
   "source": [
    "X=randomdict(\"X\",10)"
   ]
  },
  {
   "cell_type": "code",
   "execution_count": 3,
   "metadata": {},
   "outputs": [
    {
     "data": {
      "text/plain": [
       "Dict{String,Float64} with 8 entries:\n",
       "  \"Y6\" => 0.276275\n",
       "  \"Y7\" => 0.195049\n",
       "  \"Y8\" => 0.221871\n",
       "  \"Y2\" => 0.0472366\n",
       "  \"Y3\" => 0.0789639\n",
       "  \"Y4\" => 0.00538247\n",
       "  \"Y5\" => 0.0948874\n",
       "  \"Y1\" => 0.0803345"
      ]
     },
     "execution_count": 3,
     "metadata": {},
     "output_type": "execute_result"
    }
   ],
   "source": [
    "Y=randomdict(\"Y\",8)"
   ]
  },
  {
   "cell_type": "code",
   "execution_count": 4,
   "metadata": {},
   "outputs": [
    {
     "data": {
      "text/plain": [
       "plogp (generic function with 1 method)"
      ]
     },
     "execution_count": 4,
     "metadata": {},
     "output_type": "execute_result"
    }
   ],
   "source": [
    "function plogp(dict)\n",
    "    sum=0\n",
    "    for i in keys(dict)\n",
    "        sum -= dict[i]*log2(dict[i])\n",
    "    end\n",
    "    \n",
    "    return sum\n",
    "end\n",
    "     "
   ]
  },
  {
   "cell_type": "code",
   "execution_count": 5,
   "metadata": {},
   "outputs": [
    {
     "data": {
      "text/plain": [
       "plogp2 (generic function with 1 method)"
      ]
     },
     "execution_count": 5,
     "metadata": {},
     "output_type": "execute_result"
    }
   ],
   "source": [
    "function plogp2(dict)\n",
    "    sum=0\n",
    "    for (index, value) in enumerate(dict)\n",
    "        sum -= value*log2(value)\n",
    "    end\n",
    "    \n",
    "    return sum\n",
    "end\n",
    "        \n",
    "    "
   ]
  },
  {
   "cell_type": "code",
   "execution_count": 6,
   "metadata": {},
   "outputs": [
    {
     "ename": "MethodError",
     "evalue": "MethodError: no method matching log2(::Pair{String,Float64})\nClosest candidates are:\n  log2(!Matched::BigFloat) at mpfr.jl:671\n  log2(!Matched::Missing) at math.jl:1072\n  log2(!Matched::Complex{Float16}) at math.jl:1020\n  ...",
     "output_type": "error",
     "traceback": [
      "MethodError: no method matching log2(::Pair{String,Float64})\nClosest candidates are:\n  log2(!Matched::BigFloat) at mpfr.jl:671\n  log2(!Matched::Missing) at math.jl:1072\n  log2(!Matched::Complex{Float16}) at math.jl:1020\n  ...",
      "",
      "Stacktrace:",
      " [1] plogp2(::Dict{String,Float64}) at .\\In[5]:4",
      " [2] top-level scope at In[6]:1"
     ]
    }
   ],
   "source": [
    "plogp2(X)"
   ]
  },
  {
   "cell_type": "raw",
   "metadata": {},
   "source": [
    "la fonction entropie est l'application de la fonction plogp sur les valeurs du dictionnaire, pour toutes les clés"
   ]
  },
  {
   "cell_type": "code",
   "execution_count": 7,
   "metadata": {},
   "outputs": [
    {
     "data": {
      "text/plain": [
       "entropy (generic function with 1 method)"
      ]
     },
     "execution_count": 7,
     "metadata": {},
     "output_type": "execute_result"
    }
   ],
   "source": [
    "function entropy(dict)\n",
    "    \n",
    "    return plogp(dict)\n",
    "    \n",
    "end"
   ]
  },
  {
   "cell_type": "code",
   "execution_count": 8,
   "metadata": {},
   "outputs": [
    {
     "data": {
      "text/plain": [
       "joint_dict (generic function with 1 method)"
      ]
     },
     "execution_count": 8,
     "metadata": {},
     "output_type": "execute_result"
    }
   ],
   "source": [
    "function joint_dict(dict1,dict2)\n",
    "    joint_dict = Dict{String, Float64}()\n",
    "\n",
    "\n",
    "    for i in keys(dict1)\n",
    "        for j in keys(dict2)\n",
    "            push!(joint_dict, string(i,j) => dict1[i]*dict2[j])\n",
    "        end\n",
    "    end\n",
    "    \n",
    "    return joint_dict\n",
    "end    "
   ]
  },
  {
   "cell_type": "code",
   "execution_count": 9,
   "metadata": {},
   "outputs": [
    {
     "data": {
      "text/plain": [
       "joint_entropy (generic function with 1 method)"
      ]
     },
     "execution_count": 9,
     "metadata": {},
     "output_type": "execute_result"
    }
   ],
   "source": [
    "function joint_entropy(dict1,dict2)\n",
    "    \n",
    "    return plogp(joint_dict(dict1,dict2))\n",
    "    \n",
    "end"
   ]
  },
  {
   "cell_type": "code",
   "execution_count": 10,
   "metadata": {},
   "outputs": [
    {
     "data": {
      "text/plain": [
       "5.7501920879038275"
      ]
     },
     "execution_count": 10,
     "metadata": {},
     "output_type": "execute_result"
    }
   ],
   "source": [
    "joint_entropy(X,Y)"
   ]
  },
  {
   "cell_type": "code",
   "execution_count": 11,
   "metadata": {},
   "outputs": [
    {
     "data": {
      "text/plain": [
       "conditional_entropy (generic function with 1 method)"
      ]
     },
     "execution_count": 11,
     "metadata": {},
     "output_type": "execute_result"
    }
   ],
   "source": [
    "function conditional_entropy(dict1,dict2)\n",
    "    \n",
    "    return joint_entropy(dict1,dict2)-entropy(dict2)\n",
    "\n",
    "end"
   ]
  },
  {
   "cell_type": "code",
   "execution_count": 12,
   "metadata": {},
   "outputs": [
    {
     "data": {
      "text/plain": [
       "mutual_information (generic function with 1 method)"
      ]
     },
     "execution_count": 12,
     "metadata": {},
     "output_type": "execute_result"
    }
   ],
   "source": [
    "function mutual_information(dict1,dict2)\n",
    "    \n",
    "    return entropy(dict1)+entropy(dict2)-joint_entropy(dict1,dict2)\n",
    "    \n",
    "end"
   ]
  },
  {
   "cell_type": "code",
   "execution_count": 13,
   "metadata": {},
   "outputs": [
    {
     "data": {
      "text/plain": [
       "cond_joint_entropy (generic function with 1 method)"
      ]
     },
     "execution_count": 13,
     "metadata": {},
     "output_type": "execute_result"
    }
   ],
   "source": [
    "function cond_joint_entropy(dict1,dict2,dict3)\n",
    "    \n",
    "    return joint_entropy(joint_dict(dict1,dict2),dict3)-entropy(dict3)\n",
    "    \n",
    "end"
   ]
  },
  {
   "cell_type": "code",
   "execution_count": 14,
   "metadata": {},
   "outputs": [
    {
     "data": {
      "text/plain": [
       "cond_mutual_information (generic function with 1 method)"
      ]
     },
     "execution_count": 14,
     "metadata": {},
     "output_type": "execute_result"
    }
   ],
   "source": [
    "function cond_mutual_information(dict1,dict2,dict3)\n",
    "    \n",
    "    return conditional_entropy(dict1,dict3)-cond_joint_entropy(dict1,dict2,dict3)-conditional_entropy(dict2,dict3)\n",
    "    \n",
    "end"
   ]
  },
  {
   "cell_type": "code",
   "execution_count": 42,
   "metadata": {},
   "outputs": [
    {
     "data": {
      "text/plain": [
       "Dict{Int64,Float64} with 4 entries:\n",
       "  0 => 0.5\n",
       "  2 => 0.125\n",
       "  3 => 0.125\n",
       "  1 => 0.25"
      ]
     },
     "execution_count": 42,
     "metadata": {},
     "output_type": "execute_result"
    }
   ],
   "source": [
    "X = Dict(0=>1/4 ,1=>1/4, 2=>1/4, 3=>1/4)\n",
    "Y = Dict(0=>1/2 ,1=>1/4, 2=>1/8, 3=>1/8)"
   ]
  },
  {
   "cell_type": "code",
   "execution_count": 23,
   "metadata": {},
   "outputs": [
    {
     "data": {
      "text/plain": [
       "Dict{Int64,Float64} with 4 entries:\n",
       "  0 => -0.25\n",
       "  2 => 0.125\n",
       "  3 => 0.125\n",
       "  1 => 0.0"
      ]
     },
     "execution_count": 23,
     "metadata": {},
     "output_type": "execute_result"
    }
   ],
   "source": [
    "test=merge(-,X,Y)"
   ]
  },
  {
   "cell_type": "code",
   "execution_count": 47,
   "metadata": {},
   "outputs": [
    {
     "data": {
      "text/plain": [
       "sum_dict (generic function with 1 method)"
      ]
     },
     "execution_count": 47,
     "metadata": {},
     "output_type": "execute_result"
    }
   ],
   "source": [
    "function sum_dict(dict1,dict2)\n",
    "    sum_dict = Dict{Int64, Float64}()\n",
    "    for i in keys(dict1)\n",
    "        for j in keys(dict2)\n",
    "            push!(sum_dict, parse(Int64,i)+parse(Int64,j) => dict1[i]*dict2[j])\n",
    "        end\n",
    "    end\n",
    "    \n",
    "    return sum_dict\n",
    "end"
   ]
  },
  {
   "cell_type": "code",
   "execution_count": 48,
   "metadata": {},
   "outputs": [
    {
     "ename": "MethodError",
     "evalue": "MethodError: no method matching parse(::Type{Int64}, ::Int64)\nClosest candidates are:\n  parse(::Type{T<:Integer}, !Matched::AbstractChar; base) where T<:Integer at parse.jl:41\n  parse(::Type{T<:Integer}, !Matched::AbstractString; base) where T<:Integer at parse.jl:240\n  parse(::Type{T<:Real}, !Matched::AbstractString; kwargs...) where T<:Real at parse.jl:378",
     "output_type": "error",
     "traceback": [
      "MethodError: no method matching parse(::Type{Int64}, ::Int64)\nClosest candidates are:\n  parse(::Type{T<:Integer}, !Matched::AbstractChar; base) where T<:Integer at parse.jl:41\n  parse(::Type{T<:Integer}, !Matched::AbstractString; base) where T<:Integer at parse.jl:240\n  parse(::Type{T<:Real}, !Matched::AbstractString; kwargs...) where T<:Real at parse.jl:378",
      "",
      "Stacktrace:",
      " [1] sum_dict(::Dict{Int64,Float64}, ::Dict{Int64,Float64}) at .\\In[47]:5",
      " [2] top-level scope at In[48]:1"
     ]
    }
   ],
   "source": [
    "test=sum_dict(X,Y)"
   ]
  },
  {
   "cell_type": "code",
   "execution_count": 61,
   "metadata": {},
   "outputs": [
    {
     "ename": "UndefVarError",
     "evalue": "UndefVarError: product not defined",
     "output_type": "error",
     "traceback": [
      "UndefVarError: product not defined",
      "",
      "Stacktrace:",
      " [1] top-level scope at .\\In[61]:1"
     ]
    }
   ],
   "source": [
    "for p in product(1:3,4:5)\n",
    "    println(p)\n",
    "end"
   ]
  },
  {
   "cell_type": "code",
   "execution_count": 63,
   "metadata": {},
   "outputs": [
    {
     "data": {
      "text/plain": [
       "64"
      ]
     },
     "execution_count": 63,
     "metadata": {},
     "output_type": "execute_result"
    }
   ],
   "source": [
    "2+62"
   ]
  },
  {
   "cell_type": "code",
   "execution_count": null,
   "metadata": {},
   "outputs": [],
   "source": []
  }
 ],
 "metadata": {
  "kernelspec": {
   "display_name": "Julia 1.2.0",
   "language": "julia",
   "name": "julia-1.2"
  },
  "language_info": {
   "file_extension": ".jl",
   "mimetype": "application/julia",
   "name": "julia",
   "version": "1.2.0"
  }
 },
 "nbformat": 4,
 "nbformat_minor": 2
}
